{
 "cells": [
  {
   "cell_type": "markdown",
   "metadata": {},
   "source": [
    "# Klasifikasi Berita Detik\n",
    "\n",
    "Setelah melakukan crawling data pada detik, dan memberi label kategori. Selanjutnya adalah tahap membentuk model untuk keperluan klasifikasi"
   ]
  },
  {
   "cell_type": "markdown",
   "metadata": {},
   "source": [
    "Import library pandas"
   ]
  },
  {
   "cell_type": "code",
   "execution_count": 1,
   "metadata": {},
   "outputs": [],
   "source": [
    "import csv\n",
    "import pandas as pd"
   ]
  },
  {
   "cell_type": "markdown",
   "metadata": {},
   "source": [
    "Import data hasil crawling"
   ]
  },
  {
   "cell_type": "code",
   "execution_count": 2,
   "metadata": {
    "colab": {
     "base_uri": "https://localhost:8080/",
     "height": 206
    },
    "id": "mEnY4FoWbqcu",
    "outputId": "fb792967-383a-4ce7-8a9e-37e6772703e5"
   },
   "outputs": [
    {
     "data": {
      "text/html": [
       "<div>\n",
       "<style scoped>\n",
       "    .dataframe tbody tr th:only-of-type {\n",
       "        vertical-align: middle;\n",
       "    }\n",
       "\n",
       "    .dataframe tbody tr th {\n",
       "        vertical-align: top;\n",
       "    }\n",
       "\n",
       "    .dataframe thead th {\n",
       "        text-align: right;\n",
       "    }\n",
       "</style>\n",
       "<table border=\"1\" class=\"dataframe\">\n",
       "  <thead>\n",
       "    <tr style=\"text-align: right;\">\n",
       "      <th></th>\n",
       "      <th>Judul</th>\n",
       "      <th>Isi</th>\n",
       "      <th>Kategori</th>\n",
       "    </tr>\n",
       "  </thead>\n",
       "  <tbody>\n",
       "    <tr>\n",
       "      <th>0</th>\n",
       "      <td>Kevin Sanjaya Izin Absen dari Pelatnas, Jaga I...</td>\n",
       "      <td>Pebulutangkis ganda putra Kevin Sanjaya Sukamu...</td>\n",
       "      <td>sport</td>\n",
       "    </tr>\n",
       "    <tr>\n",
       "      <th>1</th>\n",
       "      <td>Menpora Optimistis Indonesia Loloskan Banyak A...</td>\n",
       "      <td>Menpora Dito Ariotedjo optimistis Indonesia me...</td>\n",
       "      <td>sport</td>\n",
       "    </tr>\n",
       "    <tr>\n",
       "      <th>2</th>\n",
       "      <td>Ranking Terbaru Race to Paris 2024: Dejan/Glo ...</td>\n",
       "      <td>Federasi Bulutangkis Dunia (BWF) kembali meril...</td>\n",
       "      <td>sport</td>\n",
       "    </tr>\n",
       "    <tr>\n",
       "      <th>3</th>\n",
       "      <td>Lomba Lari di Berbagai Negara, 4 Atlet Pakai O...</td>\n",
       "      <td>Kembali gunakan tajuk 'Your Flying Machine', O...</td>\n",
       "      <td>sport</td>\n",
       "    </tr>\n",
       "    <tr>\n",
       "      <th>4</th>\n",
       "      <td>Jadi Kontestan Baru IBL, Kesatria Bengawan Sol...</td>\n",
       "      <td>Kompetisi Indonesia Basketball League (IBL) mu...</td>\n",
       "      <td>sport</td>\n",
       "    </tr>\n",
       "  </tbody>\n",
       "</table>\n",
       "</div>"
      ],
      "text/plain": [
       "                                               Judul  \\\n",
       "0  Kevin Sanjaya Izin Absen dari Pelatnas, Jaga I...   \n",
       "1  Menpora Optimistis Indonesia Loloskan Banyak A...   \n",
       "2  Ranking Terbaru Race to Paris 2024: Dejan/Glo ...   \n",
       "3  Lomba Lari di Berbagai Negara, 4 Atlet Pakai O...   \n",
       "4  Jadi Kontestan Baru IBL, Kesatria Bengawan Sol...   \n",
       "\n",
       "                                                 Isi Kategori  \n",
       "0  Pebulutangkis ganda putra Kevin Sanjaya Sukamu...    sport  \n",
       "1  Menpora Dito Ariotedjo optimistis Indonesia me...    sport  \n",
       "2  Federasi Bulutangkis Dunia (BWF) kembali meril...    sport  \n",
       "3  Kembali gunakan tajuk 'Your Flying Machine', O...    sport  \n",
       "4  Kompetisi Indonesia Basketball League (IBL) mu...    sport  "
      ]
     },
     "execution_count": 2,
     "metadata": {},
     "output_type": "execute_result"
    }
   ],
   "source": [
    "termFreq = pd.read_csv(\"crawling_alldetik_uas_full.csv\")\n",
    "termFreq.head()\n"
   ]
  },
  {
   "cell_type": "markdown",
   "metadata": {},
   "source": [
    "Mengecek apakah ada data yang bernilai null"
   ]
  },
  {
   "cell_type": "code",
   "execution_count": 3,
   "metadata": {
    "colab": {
     "base_uri": "https://localhost:8080/"
    },
    "id": "mCUMpVDmrnqH",
    "outputId": "b690cb5b-79e2-4f79-e221-ba14347b8991"
   },
   "outputs": [
    {
     "data": {
      "text/plain": [
       "Judul       0\n",
       "Isi         1\n",
       "Kategori    3\n",
       "dtype: int64"
      ]
     },
     "execution_count": 3,
     "metadata": {},
     "output_type": "execute_result"
    }
   ],
   "source": [
    "termFreq.isnull().sum()"
   ]
  },
  {
   "cell_type": "markdown",
   "metadata": {},
   "source": [
    "Agar dataset lebih rapi maka data yang memiliki nilai null di-drop"
   ]
  },
  {
   "cell_type": "code",
   "execution_count": 4,
   "metadata": {
    "id": "CwJ9iCU_sQN7"
   },
   "outputs": [],
   "source": [
    "termFreq = termFreq.dropna()"
   ]
  },
  {
   "cell_type": "markdown",
   "metadata": {},
   "source": [
    "## Preprocessing\n",
    "Dalam tahap ini, text akan dilakukan cleaning, agar menghasilkan data yang lebih bersih dan lebih mudah diekstraksi informasi.\n",
    "Kali ini, cleaning data yang akan dilakukan adalah penghapusan kurung, penghapusan url, penghapusan karakter khusus, dan penghapusan stopwords"
   ]
  },
  {
   "cell_type": "markdown",
   "metadata": {},
   "source": [
    "Import library yang dibutuhkan"
   ]
  },
  {
   "cell_type": "code",
   "execution_count": 5,
   "metadata": {
    "id": "5ADiCOWoggf2"
   },
   "outputs": [],
   "source": [
    "import nltk\n",
    "from sklearn.feature_extraction.text import CountVectorizer\n",
    "from nltk.corpus import stopwords\n",
    "from nltk.stem import WordNetLemmatizer\n",
    "from nltk.tokenize import word_tokenize\n",
    "from nltk.tokenize.toktok import ToktokTokenizer\n",
    "from nltk.stem import LancasterStemmer\n",
    "import re, string, unicodedata\n",
    "from string import punctuation"
   ]
  },
  {
   "cell_type": "code",
   "execution_count": 6,
   "metadata": {
    "colab": {
     "base_uri": "https://localhost:8080/"
    },
    "id": "QbRDw_jwhmju",
    "outputId": "3e015ab8-e8c8-4877-ccb2-ffba819161ac"
   },
   "outputs": [
    {
     "name": "stderr",
     "output_type": "stream",
     "text": [
      "[nltk_data] Downloading package stopwords to\n",
      "[nltk_data]     C:\\Users\\hp\\AppData\\Roaming\\nltk_data...\n",
      "[nltk_data]   Package stopwords is already up-to-date!\n"
     ]
    }
   ],
   "source": [
    "# Menghapus kurung\n",
    "def hapus_kurung(text):\n",
    "  return re.sub('\\[[^]]*\\]', '', text)\n",
    "\n",
    "# Menghapus url\n",
    "def delete_url(text):\n",
    "  return re.sub(r'http/S+', '', text)\n",
    "# Menghapus simbol khusus\n",
    "def remove_specialchars(text):\n",
    "  pattern=r'[^a-zA-z0-9\\s]'\n",
    "  text = re.sub(pattern,'', text)\n",
    "  return text\n",
    "# Menghapus stopwords dengan nltk serta mengubah text menjadi lowercase\n",
    "nltk.download('stopwords')\n",
    "stop = set(stopwords.words('indonesian'))\n",
    "punctuation = list(string.punctuation)\n",
    "stop.update(punctuation)\n",
    "\n",
    "def remove_stopwords(text):\n",
    "  res = []\n",
    "  for i in text.split():\n",
    "    if i.strip().lower() not in stop and i.strip().lower().isalpha():\n",
    "      res.append(i.strip().lower())\n",
    "  return \" \".join(res)\n"
   ]
  },
  {
   "cell_type": "markdown",
   "metadata": {},
   "source": [
    "Menyatukan fungsi cleaning yang telah dibuat tadi menjadi satu fungsi preprocessing"
   ]
  },
  {
   "cell_type": "code",
   "execution_count": 7,
   "metadata": {
    "id": "dGFw_XzIjZHc"
   },
   "outputs": [],
   "source": [
    "def preprocessing_text(text):\n",
    "  text = hapus_kurung(text)\n",
    "  text = delete_url(text)\n",
    "  text = remove_specialchars(text)\n",
    "  text = remove_stopwords(text)\n",
    "  return text\n"
   ]
  },
  {
   "cell_type": "markdown",
   "metadata": {},
   "source": [
    "Menjalankan fungsi ke dataset. Dengan menggunakan fungsi .apply  dari pandas. Dalam hal ini pada kolom Isi"
   ]
  },
  {
   "cell_type": "code",
   "execution_count": 8,
   "metadata": {},
   "outputs": [],
   "source": [
    "termFreq['Isi'] = termFreq['Isi'].apply(preprocessing_text)"
   ]
  },
  {
   "cell_type": "markdown",
   "metadata": {},
   "source": [
    "Menampilkan data yang sudah di preprocessing"
   ]
  },
  {
   "cell_type": "code",
   "execution_count": 9,
   "metadata": {
    "colab": {
     "base_uri": "https://localhost:8080/",
     "height": 424
    },
    "id": "kI1RQ369nNyk",
    "outputId": "2eb3c33f-0e43-47cb-cadd-eddf4be8fd45"
   },
   "outputs": [
    {
     "data": {
      "text/html": [
       "<div>\n",
       "<style scoped>\n",
       "    .dataframe tbody tr th:only-of-type {\n",
       "        vertical-align: middle;\n",
       "    }\n",
       "\n",
       "    .dataframe tbody tr th {\n",
       "        vertical-align: top;\n",
       "    }\n",
       "\n",
       "    .dataframe thead th {\n",
       "        text-align: right;\n",
       "    }\n",
       "</style>\n",
       "<table border=\"1\" class=\"dataframe\">\n",
       "  <thead>\n",
       "    <tr style=\"text-align: right;\">\n",
       "      <th></th>\n",
       "      <th>Judul</th>\n",
       "      <th>Isi</th>\n",
       "      <th>Kategori</th>\n",
       "    </tr>\n",
       "  </thead>\n",
       "  <tbody>\n",
       "    <tr>\n",
       "      <th>0</th>\n",
       "      <td>Kevin Sanjaya Izin Absen dari Pelatnas, Jaga I...</td>\n",
       "      <td>pebulutangkis ganda putra kevin sanjaya sukamu...</td>\n",
       "      <td>sport</td>\n",
       "    </tr>\n",
       "    <tr>\n",
       "      <th>1</th>\n",
       "      <td>Menpora Optimistis Indonesia Loloskan Banyak A...</td>\n",
       "      <td>menpora dito ariotedjo optimistis indonesia me...</td>\n",
       "      <td>sport</td>\n",
       "    </tr>\n",
       "    <tr>\n",
       "      <th>2</th>\n",
       "      <td>Ranking Terbaru Race to Paris 2024: Dejan/Glo ...</td>\n",
       "      <td>federasi bulutangkis dunia bwf merilis ranking...</td>\n",
       "      <td>sport</td>\n",
       "    </tr>\n",
       "    <tr>\n",
       "      <th>3</th>\n",
       "      <td>Lomba Lari di Berbagai Negara, 4 Atlet Pakai O...</td>\n",
       "      <td>tajuk your flying machine ortuseight luncurkan...</td>\n",
       "      <td>sport</td>\n",
       "    </tr>\n",
       "    <tr>\n",
       "      <th>4</th>\n",
       "      <td>Jadi Kontestan Baru IBL, Kesatria Bengawan Sol...</td>\n",
       "      <td>kompetisi indonesia basketball league ibl musi...</td>\n",
       "      <td>sport</td>\n",
       "    </tr>\n",
       "    <tr>\n",
       "      <th>...</th>\n",
       "      <td>...</td>\n",
       "      <td>...</td>\n",
       "      <td>...</td>\n",
       "    </tr>\n",
       "    <tr>\n",
       "      <th>1086</th>\n",
       "      <td>Demi Makan Gratis Setahun, Pria Ini Rela Habis...</td>\n",
       "      <td>pria menantang makan hidangan restoran tantang...</td>\n",
       "      <td>food</td>\n",
       "    </tr>\n",
       "    <tr>\n",
       "      <th>1087</th>\n",
       "      <td>6 Minuman Enak dan Segar Ini Bisa Menurunkan T...</td>\n",
       "      <td>asupan makanan jenis minuman menurunkan tekana...</td>\n",
       "      <td>food</td>\n",
       "    </tr>\n",
       "    <tr>\n",
       "      <th>1088</th>\n",
       "      <td>Gokil! Tanboy Kun Masak dan Mukbang 1 Kg Wagyu...</td>\n",
       "      <td>tanboy kun mencicipi makanan menarik kali yout...</td>\n",
       "      <td>food</td>\n",
       "    </tr>\n",
       "    <tr>\n",
       "      <th>1089</th>\n",
       "      <td>Muncul Tren Aneh, Nasi hingga Mie Instan Dicam...</td>\n",
       "      <td>tren makanan silih berganti tren makanan aneh ...</td>\n",
       "      <td>food</td>\n",
       "    </tr>\n",
       "    <tr>\n",
       "      <th>1090</th>\n",
       "      <td>Keluarga Korea Ini Ketagihan Krengsengan dan T...</td>\n",
       "      <td>keluarga korea akrab makanan indonesia mencoba...</td>\n",
       "      <td>food</td>\n",
       "    </tr>\n",
       "  </tbody>\n",
       "</table>\n",
       "<p>1088 rows × 3 columns</p>\n",
       "</div>"
      ],
      "text/plain": [
       "                                                  Judul  \\\n",
       "0     Kevin Sanjaya Izin Absen dari Pelatnas, Jaga I...   \n",
       "1     Menpora Optimistis Indonesia Loloskan Banyak A...   \n",
       "2     Ranking Terbaru Race to Paris 2024: Dejan/Glo ...   \n",
       "3     Lomba Lari di Berbagai Negara, 4 Atlet Pakai O...   \n",
       "4     Jadi Kontestan Baru IBL, Kesatria Bengawan Sol...   \n",
       "...                                                 ...   \n",
       "1086  Demi Makan Gratis Setahun, Pria Ini Rela Habis...   \n",
       "1087  6 Minuman Enak dan Segar Ini Bisa Menurunkan T...   \n",
       "1088  Gokil! Tanboy Kun Masak dan Mukbang 1 Kg Wagyu...   \n",
       "1089  Muncul Tren Aneh, Nasi hingga Mie Instan Dicam...   \n",
       "1090  Keluarga Korea Ini Ketagihan Krengsengan dan T...   \n",
       "\n",
       "                                                    Isi Kategori  \n",
       "0     pebulutangkis ganda putra kevin sanjaya sukamu...    sport  \n",
       "1     menpora dito ariotedjo optimistis indonesia me...    sport  \n",
       "2     federasi bulutangkis dunia bwf merilis ranking...    sport  \n",
       "3     tajuk your flying machine ortuseight luncurkan...    sport  \n",
       "4     kompetisi indonesia basketball league ibl musi...    sport  \n",
       "...                                                 ...      ...  \n",
       "1086  pria menantang makan hidangan restoran tantang...     food  \n",
       "1087  asupan makanan jenis minuman menurunkan tekana...     food  \n",
       "1088  tanboy kun mencicipi makanan menarik kali yout...     food  \n",
       "1089  tren makanan silih berganti tren makanan aneh ...     food  \n",
       "1090  keluarga korea akrab makanan indonesia mencoba...     food  \n",
       "\n",
       "[1088 rows x 3 columns]"
      ]
     },
     "execution_count": 9,
     "metadata": {},
     "output_type": "execute_result"
    }
   ],
   "source": [
    "termFreq"
   ]
  },
  {
   "cell_type": "markdown",
   "metadata": {},
   "source": [
    "Menyimpan data dalam csv"
   ]
  },
  {
   "cell_type": "code",
   "execution_count": 10,
   "metadata": {
    "id": "o0c038Ldszwi"
   },
   "outputs": [],
   "source": [
    "termFreq.to_csv('preprocessing_alldetik_uas_full.csv', index=False)"
   ]
  },
  {
   "cell_type": "markdown",
   "metadata": {},
   "source": [
    "Import data yang sudah preprocessing"
   ]
  },
  {
   "cell_type": "markdown",
   "metadata": {},
   "source": [
    "## Modelling"
   ]
  },
  {
   "cell_type": "code",
   "execution_count": 11,
   "metadata": {
    "id": "UObTcNnlhmoW"
   },
   "outputs": [],
   "source": [
    "df = pd.read_csv('preprocessing_alldetik_uas_full.csv')"
   ]
  },
  {
   "cell_type": "markdown",
   "metadata": {},
   "source": [
    "Import tf-idf vectorizer dari library scikit-learn"
   ]
  },
  {
   "cell_type": "code",
   "execution_count": 12,
   "metadata": {
    "id": "z3xgRiphtYbD"
   },
   "outputs": [],
   "source": [
    "from sklearn.feature_extraction.text import TfidfVectorizer"
   ]
  },
  {
   "cell_type": "markdown",
   "metadata": {},
   "source": [
    "Dikarenakan yang akan digunakan hanya kolom 'Isi' dan 'Kategori', maka hanya diambil dua kolom tersebut"
   ]
  },
  {
   "cell_type": "code",
   "execution_count": 13,
   "metadata": {
    "id": "5adiz7ujufR0"
   },
   "outputs": [],
   "source": [
    "x = df['Isi'] # Kolom fitur\n",
    "y = df['Kategori']  # Kolom target\n"
   ]
  },
  {
   "cell_type": "markdown",
   "metadata": {},
   "source": [
    "Inisialisasi vectorizer"
   ]
  },
  {
   "cell_type": "code",
   "execution_count": 14,
   "metadata": {
    "id": "WNUMMwBcxYEI"
   },
   "outputs": [],
   "source": [
    "tfidfvectorizer = TfidfVectorizer()"
   ]
  },
  {
   "cell_type": "markdown",
   "metadata": {},
   "source": [
    "Fit data ke tfidf"
   ]
  },
  {
   "cell_type": "code",
   "execution_count": 15,
   "metadata": {},
   "outputs": [],
   "source": [
    "tfidf_fit = tfidfvectorizer.fit(x)\n",
    "tfidf_text = tfidf_fit.transform(x)"
   ]
  },
  {
   "cell_type": "markdown",
   "metadata": {},
   "source": [
    "Menampilkan tf-idf"
   ]
  },
  {
   "cell_type": "code",
   "execution_count": 16,
   "metadata": {
    "colab": {
     "base_uri": "https://localhost:8080/",
     "height": 424
    },
    "id": "Cvibpivut66c",
    "outputId": "aafbb7c7-a713-4e60-cad3-329953e9f0de"
   },
   "outputs": [
    {
     "data": {
      "text/html": [
       "<div>\n",
       "<style scoped>\n",
       "    .dataframe tbody tr th:only-of-type {\n",
       "        vertical-align: middle;\n",
       "    }\n",
       "\n",
       "    .dataframe tbody tr th {\n",
       "        vertical-align: top;\n",
       "    }\n",
       "\n",
       "    .dataframe thead th {\n",
       "        text-align: right;\n",
       "    }\n",
       "</style>\n",
       "<table border=\"1\" class=\"dataframe\">\n",
       "  <thead>\n",
       "    <tr style=\"text-align: right;\">\n",
       "      <th></th>\n",
       "      <th>aa</th>\n",
       "      <th>aaaaa</th>\n",
       "      <th>aakarshi</th>\n",
       "      <th>aakasep</th>\n",
       "      <th>aan</th>\n",
       "      <th>aangeliaa</th>\n",
       "      <th>aangeliaadi</th>\n",
       "      <th>aarhus</th>\n",
       "      <th>aarhusdalam</th>\n",
       "      <th>aaron</th>\n",
       "      <th>...</th>\n",
       "      <th>zulfi</th>\n",
       "      <th>zulfikri</th>\n",
       "      <th>zulkieflimansyah</th>\n",
       "      <th>zullies</th>\n",
       "      <th>zulliesmeski</th>\n",
       "      <th>zumba</th>\n",
       "      <th>zunyou</th>\n",
       "      <th>zuppa</th>\n",
       "      <th>zurich</th>\n",
       "      <th>zus</th>\n",
       "    </tr>\n",
       "  </thead>\n",
       "  <tbody>\n",
       "    <tr>\n",
       "      <th>0</th>\n",
       "      <td>0.0</td>\n",
       "      <td>0.0</td>\n",
       "      <td>0.0</td>\n",
       "      <td>0.0</td>\n",
       "      <td>0.0</td>\n",
       "      <td>0.0</td>\n",
       "      <td>0.0</td>\n",
       "      <td>0.0</td>\n",
       "      <td>0.0</td>\n",
       "      <td>0.0</td>\n",
       "      <td>...</td>\n",
       "      <td>0.0</td>\n",
       "      <td>0.0</td>\n",
       "      <td>0.0</td>\n",
       "      <td>0.0</td>\n",
       "      <td>0.0</td>\n",
       "      <td>0.0</td>\n",
       "      <td>0.0</td>\n",
       "      <td>0.0</td>\n",
       "      <td>0.0</td>\n",
       "      <td>0.0</td>\n",
       "    </tr>\n",
       "    <tr>\n",
       "      <th>1</th>\n",
       "      <td>0.0</td>\n",
       "      <td>0.0</td>\n",
       "      <td>0.0</td>\n",
       "      <td>0.0</td>\n",
       "      <td>0.0</td>\n",
       "      <td>0.0</td>\n",
       "      <td>0.0</td>\n",
       "      <td>0.0</td>\n",
       "      <td>0.0</td>\n",
       "      <td>0.0</td>\n",
       "      <td>...</td>\n",
       "      <td>0.0</td>\n",
       "      <td>0.0</td>\n",
       "      <td>0.0</td>\n",
       "      <td>0.0</td>\n",
       "      <td>0.0</td>\n",
       "      <td>0.0</td>\n",
       "      <td>0.0</td>\n",
       "      <td>0.0</td>\n",
       "      <td>0.0</td>\n",
       "      <td>0.0</td>\n",
       "    </tr>\n",
       "    <tr>\n",
       "      <th>2</th>\n",
       "      <td>0.0</td>\n",
       "      <td>0.0</td>\n",
       "      <td>0.0</td>\n",
       "      <td>0.0</td>\n",
       "      <td>0.0</td>\n",
       "      <td>0.0</td>\n",
       "      <td>0.0</td>\n",
       "      <td>0.0</td>\n",
       "      <td>0.0</td>\n",
       "      <td>0.0</td>\n",
       "      <td>...</td>\n",
       "      <td>0.0</td>\n",
       "      <td>0.0</td>\n",
       "      <td>0.0</td>\n",
       "      <td>0.0</td>\n",
       "      <td>0.0</td>\n",
       "      <td>0.0</td>\n",
       "      <td>0.0</td>\n",
       "      <td>0.0</td>\n",
       "      <td>0.0</td>\n",
       "      <td>0.0</td>\n",
       "    </tr>\n",
       "    <tr>\n",
       "      <th>3</th>\n",
       "      <td>0.0</td>\n",
       "      <td>0.0</td>\n",
       "      <td>0.0</td>\n",
       "      <td>0.0</td>\n",
       "      <td>0.0</td>\n",
       "      <td>0.0</td>\n",
       "      <td>0.0</td>\n",
       "      <td>0.0</td>\n",
       "      <td>0.0</td>\n",
       "      <td>0.0</td>\n",
       "      <td>...</td>\n",
       "      <td>0.0</td>\n",
       "      <td>0.0</td>\n",
       "      <td>0.0</td>\n",
       "      <td>0.0</td>\n",
       "      <td>0.0</td>\n",
       "      <td>0.0</td>\n",
       "      <td>0.0</td>\n",
       "      <td>0.0</td>\n",
       "      <td>0.0</td>\n",
       "      <td>0.0</td>\n",
       "    </tr>\n",
       "    <tr>\n",
       "      <th>4</th>\n",
       "      <td>0.0</td>\n",
       "      <td>0.0</td>\n",
       "      <td>0.0</td>\n",
       "      <td>0.0</td>\n",
       "      <td>0.0</td>\n",
       "      <td>0.0</td>\n",
       "      <td>0.0</td>\n",
       "      <td>0.0</td>\n",
       "      <td>0.0</td>\n",
       "      <td>0.0</td>\n",
       "      <td>...</td>\n",
       "      <td>0.0</td>\n",
       "      <td>0.0</td>\n",
       "      <td>0.0</td>\n",
       "      <td>0.0</td>\n",
       "      <td>0.0</td>\n",
       "      <td>0.0</td>\n",
       "      <td>0.0</td>\n",
       "      <td>0.0</td>\n",
       "      <td>0.0</td>\n",
       "      <td>0.0</td>\n",
       "    </tr>\n",
       "    <tr>\n",
       "      <th>...</th>\n",
       "      <td>...</td>\n",
       "      <td>...</td>\n",
       "      <td>...</td>\n",
       "      <td>...</td>\n",
       "      <td>...</td>\n",
       "      <td>...</td>\n",
       "      <td>...</td>\n",
       "      <td>...</td>\n",
       "      <td>...</td>\n",
       "      <td>...</td>\n",
       "      <td>...</td>\n",
       "      <td>...</td>\n",
       "      <td>...</td>\n",
       "      <td>...</td>\n",
       "      <td>...</td>\n",
       "      <td>...</td>\n",
       "      <td>...</td>\n",
       "      <td>...</td>\n",
       "      <td>...</td>\n",
       "      <td>...</td>\n",
       "      <td>...</td>\n",
       "    </tr>\n",
       "    <tr>\n",
       "      <th>1083</th>\n",
       "      <td>0.0</td>\n",
       "      <td>0.0</td>\n",
       "      <td>0.0</td>\n",
       "      <td>0.0</td>\n",
       "      <td>0.0</td>\n",
       "      <td>0.0</td>\n",
       "      <td>0.0</td>\n",
       "      <td>0.0</td>\n",
       "      <td>0.0</td>\n",
       "      <td>0.0</td>\n",
       "      <td>...</td>\n",
       "      <td>0.0</td>\n",
       "      <td>0.0</td>\n",
       "      <td>0.0</td>\n",
       "      <td>0.0</td>\n",
       "      <td>0.0</td>\n",
       "      <td>0.0</td>\n",
       "      <td>0.0</td>\n",
       "      <td>0.0</td>\n",
       "      <td>0.0</td>\n",
       "      <td>0.0</td>\n",
       "    </tr>\n",
       "    <tr>\n",
       "      <th>1084</th>\n",
       "      <td>0.0</td>\n",
       "      <td>0.0</td>\n",
       "      <td>0.0</td>\n",
       "      <td>0.0</td>\n",
       "      <td>0.0</td>\n",
       "      <td>0.0</td>\n",
       "      <td>0.0</td>\n",
       "      <td>0.0</td>\n",
       "      <td>0.0</td>\n",
       "      <td>0.0</td>\n",
       "      <td>...</td>\n",
       "      <td>0.0</td>\n",
       "      <td>0.0</td>\n",
       "      <td>0.0</td>\n",
       "      <td>0.0</td>\n",
       "      <td>0.0</td>\n",
       "      <td>0.0</td>\n",
       "      <td>0.0</td>\n",
       "      <td>0.0</td>\n",
       "      <td>0.0</td>\n",
       "      <td>0.0</td>\n",
       "    </tr>\n",
       "    <tr>\n",
       "      <th>1085</th>\n",
       "      <td>0.0</td>\n",
       "      <td>0.0</td>\n",
       "      <td>0.0</td>\n",
       "      <td>0.0</td>\n",
       "      <td>0.0</td>\n",
       "      <td>0.0</td>\n",
       "      <td>0.0</td>\n",
       "      <td>0.0</td>\n",
       "      <td>0.0</td>\n",
       "      <td>0.0</td>\n",
       "      <td>...</td>\n",
       "      <td>0.0</td>\n",
       "      <td>0.0</td>\n",
       "      <td>0.0</td>\n",
       "      <td>0.0</td>\n",
       "      <td>0.0</td>\n",
       "      <td>0.0</td>\n",
       "      <td>0.0</td>\n",
       "      <td>0.0</td>\n",
       "      <td>0.0</td>\n",
       "      <td>0.0</td>\n",
       "    </tr>\n",
       "    <tr>\n",
       "      <th>1086</th>\n",
       "      <td>0.0</td>\n",
       "      <td>0.0</td>\n",
       "      <td>0.0</td>\n",
       "      <td>0.0</td>\n",
       "      <td>0.0</td>\n",
       "      <td>0.0</td>\n",
       "      <td>0.0</td>\n",
       "      <td>0.0</td>\n",
       "      <td>0.0</td>\n",
       "      <td>0.0</td>\n",
       "      <td>...</td>\n",
       "      <td>0.0</td>\n",
       "      <td>0.0</td>\n",
       "      <td>0.0</td>\n",
       "      <td>0.0</td>\n",
       "      <td>0.0</td>\n",
       "      <td>0.0</td>\n",
       "      <td>0.0</td>\n",
       "      <td>0.0</td>\n",
       "      <td>0.0</td>\n",
       "      <td>0.0</td>\n",
       "    </tr>\n",
       "    <tr>\n",
       "      <th>1087</th>\n",
       "      <td>0.0</td>\n",
       "      <td>0.0</td>\n",
       "      <td>0.0</td>\n",
       "      <td>0.0</td>\n",
       "      <td>0.0</td>\n",
       "      <td>0.0</td>\n",
       "      <td>0.0</td>\n",
       "      <td>0.0</td>\n",
       "      <td>0.0</td>\n",
       "      <td>0.0</td>\n",
       "      <td>...</td>\n",
       "      <td>0.0</td>\n",
       "      <td>0.0</td>\n",
       "      <td>0.0</td>\n",
       "      <td>0.0</td>\n",
       "      <td>0.0</td>\n",
       "      <td>0.0</td>\n",
       "      <td>0.0</td>\n",
       "      <td>0.0</td>\n",
       "      <td>0.0</td>\n",
       "      <td>0.0</td>\n",
       "    </tr>\n",
       "  </tbody>\n",
       "</table>\n",
       "<p>1088 rows × 30331 columns</p>\n",
       "</div>"
      ],
      "text/plain": [
       "       aa  aaaaa  aakarshi  aakasep  aan  aangeliaa  aangeliaadi  aarhus  \\\n",
       "0     0.0    0.0       0.0      0.0  0.0        0.0          0.0     0.0   \n",
       "1     0.0    0.0       0.0      0.0  0.0        0.0          0.0     0.0   \n",
       "2     0.0    0.0       0.0      0.0  0.0        0.0          0.0     0.0   \n",
       "3     0.0    0.0       0.0      0.0  0.0        0.0          0.0     0.0   \n",
       "4     0.0    0.0       0.0      0.0  0.0        0.0          0.0     0.0   \n",
       "...   ...    ...       ...      ...  ...        ...          ...     ...   \n",
       "1083  0.0    0.0       0.0      0.0  0.0        0.0          0.0     0.0   \n",
       "1084  0.0    0.0       0.0      0.0  0.0        0.0          0.0     0.0   \n",
       "1085  0.0    0.0       0.0      0.0  0.0        0.0          0.0     0.0   \n",
       "1086  0.0    0.0       0.0      0.0  0.0        0.0          0.0     0.0   \n",
       "1087  0.0    0.0       0.0      0.0  0.0        0.0          0.0     0.0   \n",
       "\n",
       "      aarhusdalam  aaron  ...  zulfi  zulfikri  zulkieflimansyah  zullies  \\\n",
       "0             0.0    0.0  ...    0.0       0.0               0.0      0.0   \n",
       "1             0.0    0.0  ...    0.0       0.0               0.0      0.0   \n",
       "2             0.0    0.0  ...    0.0       0.0               0.0      0.0   \n",
       "3             0.0    0.0  ...    0.0       0.0               0.0      0.0   \n",
       "4             0.0    0.0  ...    0.0       0.0               0.0      0.0   \n",
       "...           ...    ...  ...    ...       ...               ...      ...   \n",
       "1083          0.0    0.0  ...    0.0       0.0               0.0      0.0   \n",
       "1084          0.0    0.0  ...    0.0       0.0               0.0      0.0   \n",
       "1085          0.0    0.0  ...    0.0       0.0               0.0      0.0   \n",
       "1086          0.0    0.0  ...    0.0       0.0               0.0      0.0   \n",
       "1087          0.0    0.0  ...    0.0       0.0               0.0      0.0   \n",
       "\n",
       "      zulliesmeski  zumba  zunyou  zuppa  zurich  zus  \n",
       "0              0.0    0.0     0.0    0.0     0.0  0.0  \n",
       "1              0.0    0.0     0.0    0.0     0.0  0.0  \n",
       "2              0.0    0.0     0.0    0.0     0.0  0.0  \n",
       "3              0.0    0.0     0.0    0.0     0.0  0.0  \n",
       "4              0.0    0.0     0.0    0.0     0.0  0.0  \n",
       "...            ...    ...     ...    ...     ...  ...  \n",
       "1083           0.0    0.0     0.0    0.0     0.0  0.0  \n",
       "1084           0.0    0.0     0.0    0.0     0.0  0.0  \n",
       "1085           0.0    0.0     0.0    0.0     0.0  0.0  \n",
       "1086           0.0    0.0     0.0    0.0     0.0  0.0  \n",
       "1087           0.0    0.0     0.0    0.0     0.0  0.0  \n",
       "\n",
       "[1088 rows x 30331 columns]"
      ]
     },
     "execution_count": 16,
     "metadata": {},
     "output_type": "execute_result"
    }
   ],
   "source": [
    "tfidf_tokens = tfidfvectorizer.get_feature_names_out()\n",
    "df_tfidfvect = pd.DataFrame(data = tfidf_text.toarray(),columns = tfidf_tokens)\n",
    "df_tfidfvect"
   ]
  },
  {
   "cell_type": "markdown",
   "metadata": {},
   "source": [
    "Split data"
   ]
  },
  {
   "cell_type": "code",
   "execution_count": 17,
   "metadata": {
    "id": "9NKPBLJ4wOmz"
   },
   "outputs": [],
   "source": [
    "from sklearn.model_selection import train_test_split\n",
    "x_train, x_test, y_train, y_test = train_test_split(tfidf_text, y, test_size=0.2, random_state=42)\n"
   ]
  },
  {
   "cell_type": "markdown",
   "metadata": {},
   "source": [
    "Dalam Modelling kali ini, kita akan menggunakan model SVM dengan mengimport SVC dari library scikit-learn"
   ]
  },
  {
   "cell_type": "code",
   "execution_count": 18,
   "metadata": {
    "id": "qWKiIedQzSXB"
   },
   "outputs": [],
   "source": [
    "from sklearn.svm import SVC\n",
    "from sklearn.metrics import classification_report\n",
    "from sklearn.metrics import accuracy_score"
   ]
  },
  {
   "cell_type": "markdown",
   "metadata": {},
   "source": [
    "Testing model, dan melihat akurasi"
   ]
  },
  {
   "cell_type": "code",
   "execution_count": 19,
   "metadata": {
    "colab": {
     "base_uri": "https://localhost:8080/"
    },
    "id": "husUXpr3zxqQ",
    "outputId": "ae1596a5-6b18-45d7-8e79-72f87a71ea9b"
   },
   "outputs": [
    {
     "name": "stdout",
     "output_type": "stream",
     "text": [
      "accuracy score :  0.9678899082568807\n"
     ]
    }
   ],
   "source": [
    "clf = SVC()\n",
    "clf.fit(x_train, y_train)\n",
    "pred = clf.predict(x_test)\n",
    "accuracy = accuracy_score(y_test, pred)\n",
    "print('accuracy score : ', accuracy)"
   ]
  },
  {
   "cell_type": "markdown",
   "metadata": {
    "id": "0rqOaNHbPyq0"
   },
   "source": [
    "Menyimpan Model tfidf dan model predict"
   ]
  },
  {
   "cell_type": "code",
   "execution_count": 20,
   "metadata": {
    "id": "W5PhhFBPPW3K"
   },
   "outputs": [],
   "source": [
    "import pickle\n",
    "from pickle import dump\n",
    "from pickle import load\n",
    "\n",
    "tfidfvect = 'tfidf_vect.pkl'\n",
    "\n",
    "# Menyimpan hasil normalisasi z_scaler ke dalam file pickle\n",
    "with open(tfidfvect, 'wb') as file:\n",
    "    pickle.dump(tfidf_fit, file)"
   ]
  },
  {
   "cell_type": "code",
   "execution_count": 21,
   "metadata": {
    "id": "1imCVWb_QClW"
   },
   "outputs": [],
   "source": [
    "model = 'svm.pkl'\n",
    "\n",
    "# Menyimpan hasil normalisasi z_scaler ke dalam file pickle\n",
    "with open(model, 'wb') as file:\n",
    "    pickle.dump(clf, file)"
   ]
  },
  {
   "cell_type": "markdown",
   "metadata": {},
   "source": [
    "Membuat fungsi klasifikasi sederhana"
   ]
  },
  {
   "cell_type": "code",
   "execution_count": 22,
   "metadata": {
    "colab": {
     "base_uri": "https://localhost:8080/"
    },
    "id": "T7BVyc7FLPNQ",
    "outputId": "74d2f28f-343a-4893-d834-23199ac30c40"
   },
   "outputs": [
    {
     "name": "stdout",
     "output_type": "stream",
     "text": [
      "['sport']\n"
     ]
    }
   ],
   "source": [
    "def prediksi(text):\n",
    "  text = preprocessing_text(text)\n",
    "  norm = tfidf_fit.transform([text])\n",
    "  y_pred = clf.predict(norm)\n",
    "  return y_pred\n",
    "a = 'Sedari dulu golf bukanlah olahraga yang ecek-ecek, golf merupakan simbol dari gaya hidup mewah dan prestise. Karena melalui golf bisa mendapatkan pengalaman berolahraga santai di alam terbuka, serta kesempatan membangun jaringan sosial yang luas.Saat bermain golf, bukan hanya tubuh saja yang terasa lebih bugar, tapi juga mendapat ketenangan melalui pemandangan alam terbuka yang membuat tubuh dan pikiran jadi lebih rileks. Karena bermain golf perlu berjalan kaki sepanjang lapangan golf, membawa tas golf, dan melakukan pukulan yang memerlukan kekuatan dan keseimbangan. Beberapa jam bermain golf bisa membakar kalori dan memperkuat otot, membuatnya menjadi alternatif olahraga yang menyenangkan untuk menjaga kesehatan dan kebugaran.Fungsi lain dari olahraga golf selain untuk kesehatan adalah sebagai fasilitas jaringan koneksi dan hubungan sosial. Lapangan golf acap kali menjadi tempat pertemuan bisnis penting atau menjadi pusat komunitas berbagi minat. Itulah sebabnya golf juga dianggap sebagai olahraga yang ekslusif, investasi hiburan, bisnis, dan gaya hidup mewah. Di era sekarang dengan perkembangan teknologi dan inovasi yang sangat cepat juga turut berdampak ke dunia olahraga. Secara khusus pada cabang olahraga golf, peralatan masa kini telah dilengkapi dengan teknologi canggih untuk membantu meningkatkan performa permainanPeralatan golf masa kini banyak sekali memiliki kecanggihan, contohnya seperti perangkat lunak analitik untuk meningkatkan pukulan hingga penggunaan drone untuk pemetaan lapangan. Dunia golf terus mengikuti perkembangan zaman dengan menggabungkan teknologi untuk meningkatkan pengalaman bermain.Untuk mendapatkan peralatan golf terbaru dengan teknologi terkini, Bank Mega menawarkan pengalaman eksklusif dengan berbagai keuntungan dan diskon khusus untuk pemain golf sekaligus pemegang kartu kredit. Sekarang, Anda dapat menikmati kenyamanan golf mewah dengan diskon eksklusif dari Kartu Kredit Bank Mega. Tidak hanya itu, Anda dapat melakukan pengajuan aplikasi kartu kredit Bank Mega secara online untuk memperoleh Mega Travel Card, Mega Visa Platinum, Mega Visa Gold, atau Mega Metro Card.Selain untuk membeli peralatan baru, Bank Mega juga memberikan keuntungan eksklusif melalui kartu kredit untuk meningkatkan kenyamanan para penggemar golf. Fasilitas ini diberikan karena tidak semua lapangan golf menawarkan pengalaman mewah yang dapat membuat pengalaman bermain golf semakin istimewa. Anda dapat menikmati diskon eksklusif untuk berbagai fasilitas dan layanan di lapangan golf yang bekerja sama dengan Bank Mega.. Kartu kredit Bank Mega memberikan akses istimewa untuk meningkatkan pengalaman permainan golf Anda.Proses pengajuan kartu kredit Bank Mega yang mudah dan cepat, serta bisa diajukan secara online melalui website Bank Mega maupun melalui aplikasi M-Smile yang memungkinkan Anda untuk memilih jenis kartu kredit yang sesuai dengan kebutuhan dan gaya hidup Anda. Berikut ini 4 jenis kartu kredit Bank Mega yang dapat Anda pilih untuk mendapatkan fasilitas mewah dan kenyamanan saat berolahraga golf.Kartu Mega Travel memberikan Anda kebebasan untuk bepergian menikmati pemandangan sekaligus bermain golf di Bukit Pandawa Golf Bali atau Finna Golf & Country Club Pasuruan. Tersedia berbagai manfaat eksklusif, termasuk asuransi perjalanan, akses lounge bandara, dan promo diskon hingga 50% di restoran dan hotel.Selain untuk menjajal kemampuan di lapangan Pondok Indah Golf kartu kredit Mega Visa Platinum memberikan Anda keuntungan berlimpah, seperti reward poin yang dapat ditukarkan dengan berbagai hadiah, perlindungan asuransi, dan penawaran eksklusif di merchant-merchant pilihan.Dengan kartu Mega Visa Gold, Anda dapat menikmati diskon 10% saat bermain golf di New Kuta Golf Bali dan promo khusus di berbagai merchant favorit. Selain itu, kartu ini juga dilengkapi dengan berbagai fitur asuransi perlindungan.Kartu Mega Metro memberikan Anda kemudahan dalam bertransaksi sehari-hari dengan bonus poin dan diskon hingga 50% di berbagai merchant. Selain itu, Anda juga dapat menikmati akses ke promo eksklusif yang disediakan oleh Bank Mega.Melalui Mega Travel Card, Mega Visa Platinum, Mega Visa Gold, atau Mega Metro Card, Anda tidak hanya akan merasakan sensasi golf yang istimewa, tetapi juga menikmati berbagai keuntungan eksklusif dari Bank Mega. Jika Anda yang ingin menggabungkan kenyamanan golf mewah dengan keuntungan eksklusif kartu kredit, segera apply kartu kredit Bank Mega secara online. Manfaatkan kesempatan ini untuk membuat setiap putaran golf menjadi pengalaman tak terlupakan!'\n",
    "prd = prediksi(a)\n",
    "print(prd)\n"
   ]
  }
 ],
 "metadata": {
  "colab": {
   "provenance": []
  },
  "kernelspec": {
   "display_name": "Python 3",
   "name": "python3"
  },
  "language_info": {
   "codemirror_mode": {
    "name": "ipython",
    "version": 3
   },
   "file_extension": ".py",
   "mimetype": "text/x-python",
   "name": "python",
   "nbconvert_exporter": "python",
   "pygments_lexer": "ipython3",
   "version": "3.10.7"
  }
 },
 "nbformat": 4,
 "nbformat_minor": 0
}