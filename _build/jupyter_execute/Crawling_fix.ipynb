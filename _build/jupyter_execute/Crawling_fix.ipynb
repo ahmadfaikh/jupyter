{
 "cells": [
  {
   "cell_type": "markdown",
   "metadata": {
    "id": "xEtw4z6Auoi5"
   },
   "source": [
    "# Crawling PTA"
   ]
  },
  {
   "cell_type": "code",
   "execution_count": 1,
   "metadata": {
    "id": "til1nqCKliiz"
   },
   "outputs": [],
   "source": [
    "import requests\n",
    "from bs4 import BeautifulSoup"
   ]
  },
  {
   "cell_type": "code",
   "execution_count": 2,
   "metadata": {
    "colab": {
     "base_uri": "https://localhost:8080/"
    },
    "id": "um-ar-qZljtd",
    "outputId": "f0d8012f-f3ac-40dc-f6ca-1059836eca72"
   },
   "outputs": [
    {
     "ename": "FeatureNotFound",
     "evalue": "Couldn't find a tree builder with the features you requested: lxml. Do you need to install a parser library?",
     "output_type": "error",
     "traceback": [
      "\u001b[1;31m---------------------------------------------------------------------------\u001b[0m",
      "\u001b[1;31mFeatureNotFound\u001b[0m                           Traceback (most recent call last)",
      "Cell \u001b[1;32mIn[2], line 50\u001b[0m\n\u001b[0;32m     48\u001b[0m data \u001b[38;5;241m=\u001b[39m []\n\u001b[0;32m     49\u001b[0m \u001b[38;5;28;01mfor\u001b[39;00m i \u001b[38;5;129;01min\u001b[39;00m \u001b[38;5;28mrange\u001b[39m(\u001b[38;5;241m1\u001b[39m,\u001b[38;5;241m10\u001b[39m):\n\u001b[1;32m---> 50\u001b[0m   cr \u001b[38;5;241m=\u001b[39m \u001b[43mcrawl_pta\u001b[49m\u001b[43m(\u001b[49m\u001b[38;5;124;43m'\u001b[39;49m\u001b[38;5;124;43mhttps://pta.trunojoyo.ac.id/c_search/byprod/10/\u001b[39;49m\u001b[38;5;132;43;01m%d\u001b[39;49;00m\u001b[38;5;124;43m'\u001b[39;49m\u001b[38;5;241;43m%\u001b[39;49m\u001b[43mi\u001b[49m\u001b[43m)\u001b[49m\n\u001b[0;32m     51\u001b[0m   data \u001b[38;5;241m=\u001b[39m data\u001b[38;5;241m+\u001b[39mcr\n\u001b[0;32m     52\u001b[0m \u001b[38;5;28mprint\u001b[39m(data)\n",
      "Cell \u001b[1;32mIn[2], line 6\u001b[0m, in \u001b[0;36mcrawl_pta\u001b[1;34m(url)\u001b[0m\n\u001b[0;32m      4\u001b[0m result \u001b[38;5;241m=\u001b[39m []\n\u001b[0;32m      5\u001b[0m req \u001b[38;5;241m=\u001b[39m requests\u001b[38;5;241m.\u001b[39mget(url)\n\u001b[1;32m----> 6\u001b[0m soup \u001b[38;5;241m=\u001b[39m \u001b[43mBeautifulSoup\u001b[49m\u001b[43m(\u001b[49m\u001b[43mreq\u001b[49m\u001b[38;5;241;43m.\u001b[39;49m\u001b[43mtext\u001b[49m\u001b[43m,\u001b[49m\u001b[43m \u001b[49m\u001b[38;5;124;43m\"\u001b[39;49m\u001b[38;5;124;43mlxml\u001b[39;49m\u001b[38;5;124;43m\"\u001b[39;49m\u001b[43m)\u001b[49m\n\u001b[0;32m      8\u001b[0m news_links \u001b[38;5;241m=\u001b[39m soup\u001b[38;5;241m.\u001b[39mfind_all(\u001b[38;5;124m\"\u001b[39m\u001b[38;5;124mli\u001b[39m\u001b[38;5;124m\"\u001b[39m,{\u001b[38;5;124m'\u001b[39m\u001b[38;5;124mdata-id\u001b[39m\u001b[38;5;124m'\u001b[39m:\u001b[38;5;124m'\u001b[39m\u001b[38;5;124mid-1\u001b[39m\u001b[38;5;124m'\u001b[39m})\n\u001b[0;32m      9\u001b[0m \u001b[38;5;66;03m# #looping through article link\u001b[39;00m\n",
      "File \u001b[1;32m~\\AppData\\Local\\Programs\\Python\\Python310\\lib\\site-packages\\bs4\\__init__.py:250\u001b[0m, in \u001b[0;36mBeautifulSoup.__init__\u001b[1;34m(self, markup, features, builder, parse_only, from_encoding, exclude_encodings, element_classes, **kwargs)\u001b[0m\n\u001b[0;32m    248\u001b[0m     builder_class \u001b[38;5;241m=\u001b[39m builder_registry\u001b[38;5;241m.\u001b[39mlookup(\u001b[38;5;241m*\u001b[39mfeatures)\n\u001b[0;32m    249\u001b[0m     \u001b[38;5;28;01mif\u001b[39;00m builder_class \u001b[38;5;129;01mis\u001b[39;00m \u001b[38;5;28;01mNone\u001b[39;00m:\n\u001b[1;32m--> 250\u001b[0m         \u001b[38;5;28;01mraise\u001b[39;00m FeatureNotFound(\n\u001b[0;32m    251\u001b[0m             \u001b[38;5;124m\"\u001b[39m\u001b[38;5;124mCouldn\u001b[39m\u001b[38;5;124m'\u001b[39m\u001b[38;5;124mt find a tree builder with the features you \u001b[39m\u001b[38;5;124m\"\u001b[39m\n\u001b[0;32m    252\u001b[0m             \u001b[38;5;124m\"\u001b[39m\u001b[38;5;124mrequested: \u001b[39m\u001b[38;5;132;01m%s\u001b[39;00m\u001b[38;5;124m. Do you need to install a parser library?\u001b[39m\u001b[38;5;124m\"\u001b[39m\n\u001b[0;32m    253\u001b[0m             \u001b[38;5;241m%\u001b[39m \u001b[38;5;124m\"\u001b[39m\u001b[38;5;124m,\u001b[39m\u001b[38;5;124m\"\u001b[39m\u001b[38;5;241m.\u001b[39mjoin(features))\n\u001b[0;32m    255\u001b[0m \u001b[38;5;66;03m# At this point either we have a TreeBuilder instance in\u001b[39;00m\n\u001b[0;32m    256\u001b[0m \u001b[38;5;66;03m# builder, or we have a builder_class that we can instantiate\u001b[39;00m\n\u001b[0;32m    257\u001b[0m \u001b[38;5;66;03m# with the remaining **kwargs.\u001b[39;00m\n\u001b[0;32m    258\u001b[0m \u001b[38;5;28;01mif\u001b[39;00m builder \u001b[38;5;129;01mis\u001b[39;00m \u001b[38;5;28;01mNone\u001b[39;00m:\n",
      "\u001b[1;31mFeatureNotFound\u001b[0m: Couldn't find a tree builder with the features you requested: lxml. Do you need to install a parser library?"
     ]
    }
   ],
   "source": [
    "import pandas as pd\n",
    "def crawl_pta(url):\n",
    "\n",
    "    result = []\n",
    "    req = requests.get(url)\n",
    "    soup = BeautifulSoup(req.text, \"lxml\")\n",
    "\n",
    "    news_links = soup.find_all(\"li\",{'data-id':'id-1'})\n",
    "    # #looping through article link\n",
    "    for idx,news in enumerate(news_links):\n",
    "        penulis = \"\"\n",
    "        dosen1 = ''\n",
    "        dosen2 = ''\n",
    "        news_dict = {}\n",
    "\n",
    "        # #find urll news\n",
    "        url_news = news.find('a',{'class':'gray button'}).get('href')\n",
    "\n",
    "        # find news content in url\n",
    "        req_news =  requests.get(url_news)\n",
    "        soup_news = BeautifulSoup(req_news.text, \"lxml\")\n",
    "\n",
    "        #Judul Jurnal\n",
    "        judul = soup_news.find('a',{'class':'title'}).text\n",
    "        # print(\"title:\", title)\n",
    "\n",
    "        #Penulis, dospem I, dospem II\n",
    "        dt = soup_news.find_all('div',{'style':'padding:2px 2px 2px 2px;'})\n",
    "        penulis = dt[0].text.split(':')[1]\n",
    "        dosen1 = dt[1].text.split(':')[1]\n",
    "        dosen2 = dt[2].text.split(':')[1]\n",
    "\n",
    "        #Abstrak\n",
    "        abstrak = soup_news.find('p',{'align':'justify'}).text\n",
    "\n",
    "        #wrap in dictionary\n",
    "        news_dict['Judul'] = judul\n",
    "        news_dict['Penulis'] = penulis\n",
    "        news_dict['Dosen Pembimbing I'] = dosen1\n",
    "        news_dict['Dosen Pembimbing II'] = dosen2\n",
    "        news_dict['Abstrak'] = abstrak\n",
    "        result.append(news_dict)\n",
    "\n",
    "    return result\n",
    "# url = 'https://pta.trunojoyo.ac.id/welcome/index/5'\n",
    "# cr = crawl_kompas(url)\n",
    "# print(cr)\n",
    "data = []\n",
    "for i in range(1,10):\n",
    "  cr = crawl_pta('https://pta.trunojoyo.ac.id/c_search/byprod/10/%d'%i)\n",
    "  data = data+cr\n",
    "print(data)\n",
    "df = pd.DataFrame(data)\n",
    "\n",
    "# saving the dataframe\n",
    "df.to_csv('/content/drive/MyDrive/PPW/hasil/crawling_pta.csv')"
   ]
  },
  {
   "cell_type": "markdown",
   "metadata": {},
   "source": [
    "Menyimpan hasil crawling dalam bentuk csv"
   ]
  },
  {
   "cell_type": "code",
   "execution_count": null,
   "metadata": {},
   "outputs": [],
   "source": [
    "df.to_csv('/content/drive/MyDrive/PPW/hasil/crawling_pta.csv')"
   ]
  }
 ],
 "metadata": {
  "colab": {
   "provenance": []
  },
  "kernelspec": {
   "display_name": "Python 3 (ipykernel)",
   "language": "python",
   "name": "python3"
  },
  "language_info": {
   "codemirror_mode": {
    "name": "ipython",
    "version": 3
   },
   "file_extension": ".py",
   "mimetype": "text/x-python",
   "name": "python",
   "nbconvert_exporter": "python",
   "pygments_lexer": "ipython3",
   "version": "3.10.7"
  }
 },
 "nbformat": 4,
 "nbformat_minor": 4
}